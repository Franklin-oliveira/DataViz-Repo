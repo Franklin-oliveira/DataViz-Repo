{
 "cells": [
  {
   "cell_type": "markdown",
   "metadata": {},
   "source": [
    "# Preparando os datasets\n",
    "\n",
    "**Disciplina:** Visualização de dados <br>\n",
    "**Aluno:** Franklin Oliveira <br>\n",
    "**Professora:** Asla Sá <br>\n",
    "\n",
    "-----\n",
    "\n",
    "Nesse notebook, vamos importar e preparar os datasets para a criação das visualizações. "
   ]
  },
  {
   "cell_type": "code",
   "execution_count": 1,
   "metadata": {
    "ExecuteTime": {
     "end_time": "2019-12-07T18:30:26.341658Z",
     "start_time": "2019-12-07T18:30:19.157719Z"
    }
   },
   "outputs": [],
   "source": [
    "import numpy as np\n",
    "import pandas as pd\n",
    "import seaborn as sns\n",
    "import matplotlib.pyplot as plt\n",
    "\n",
    "sns.set()\n",
    "\n",
    "# biblioteca para coletar os nomes dos continentes\n",
    "import pycountry_convert as pc"
   ]
  },
  {
   "cell_type": "markdown",
   "metadata": {},
   "source": [
    "## Importando os datasets de casamentos e divórcios\n",
    "\n",
    "<br>\n",
    "\n",
    "$$Taxa~de~casamentos = \\frac{Nº~de~casamentos}{1000~hab.} $$"
   ]
  },
  {
   "cell_type": "code",
   "execution_count": 2,
   "metadata": {
    "ExecuteTime": {
     "end_time": "2019-12-07T18:30:28.885654Z",
     "start_time": "2019-12-07T18:30:27.318012Z"
    }
   },
   "outputs": [],
   "source": [
    "# importando arquivo em Excel\n",
    "excel = pd.ExcelFile('./data/SF_3_1_Marriage_divorce_rates.xlsx')"
   ]
  },
  {
   "cell_type": "code",
   "execution_count": 3,
   "metadata": {
    "ExecuteTime": {
     "end_time": "2019-12-07T18:30:31.516106Z",
     "start_time": "2019-12-07T18:30:31.121858Z"
    }
   },
   "outputs": [
    {
     "data": {
      "text/html": [
       "<div>\n",
       "<style scoped>\n",
       "    .dataframe tbody tr th:only-of-type {\n",
       "        vertical-align: middle;\n",
       "    }\n",
       "\n",
       "    .dataframe tbody tr th {\n",
       "        vertical-align: top;\n",
       "    }\n",
       "\n",
       "    .dataframe thead th {\n",
       "        text-align: right;\n",
       "    }\n",
       "</style>\n",
       "<table border=\"1\" class=\"dataframe\">\n",
       "  <thead>\n",
       "    <tr style=\"text-align: right;\">\n",
       "      <th></th>\n",
       "      <th>Country</th>\n",
       "      <th>1960</th>\n",
       "      <th>1961</th>\n",
       "      <th>1962</th>\n",
       "      <th>1963</th>\n",
       "      <th>1964</th>\n",
       "      <th>1965</th>\n",
       "      <th>1966</th>\n",
       "      <th>1967</th>\n",
       "      <th>1968</th>\n",
       "      <th>...</th>\n",
       "      <th>2008</th>\n",
       "      <th>2009</th>\n",
       "      <th>2010</th>\n",
       "      <th>2011</th>\n",
       "      <th>2012</th>\n",
       "      <th>2013</th>\n",
       "      <th>2014</th>\n",
       "      <th>2015</th>\n",
       "      <th>2016</th>\n",
       "      <th>2017</th>\n",
       "    </tr>\n",
       "  </thead>\n",
       "  <tbody>\n",
       "    <tr>\n",
       "      <td>0</td>\n",
       "      <td>Australia</td>\n",
       "      <td>NaN</td>\n",
       "      <td>NaN</td>\n",
       "      <td>NaN</td>\n",
       "      <td>NaN</td>\n",
       "      <td>NaN</td>\n",
       "      <td>NaN</td>\n",
       "      <td>NaN</td>\n",
       "      <td>NaN</td>\n",
       "      <td>NaN</td>\n",
       "      <td>...</td>\n",
       "      <td>5.5</td>\n",
       "      <td>5.5</td>\n",
       "      <td>5.4</td>\n",
       "      <td>5.4</td>\n",
       "      <td>5.4</td>\n",
       "      <td>5.1</td>\n",
       "      <td>5.2</td>\n",
       "      <td>4.8</td>\n",
       "      <td>4.9</td>\n",
       "      <td>4.591825</td>\n",
       "    </tr>\n",
       "    <tr>\n",
       "      <td>1</td>\n",
       "      <td>Austria</td>\n",
       "      <td>8.3</td>\n",
       "      <td>8.5</td>\n",
       "      <td>8.4</td>\n",
       "      <td>8.1</td>\n",
       "      <td>8.0</td>\n",
       "      <td>7.8</td>\n",
       "      <td>7.6</td>\n",
       "      <td>7.6</td>\n",
       "      <td>7.6</td>\n",
       "      <td>...</td>\n",
       "      <td>4.2</td>\n",
       "      <td>4.3</td>\n",
       "      <td>4.5</td>\n",
       "      <td>4.3</td>\n",
       "      <td>4.6</td>\n",
       "      <td>4.3</td>\n",
       "      <td>4.4</td>\n",
       "      <td>5.1</td>\n",
       "      <td>5.1</td>\n",
       "      <td>5.100000</td>\n",
       "    </tr>\n",
       "  </tbody>\n",
       "</table>\n",
       "<p>2 rows × 59 columns</p>\n",
       "</div>"
      ],
      "text/plain": [
       "     Country  1960  1961  1962  1963  1964  1965  1966  1967  1968  ...  2008  \\\n",
       "0  Australia   NaN   NaN   NaN   NaN   NaN   NaN   NaN   NaN   NaN  ...   5.5   \n",
       "1    Austria   8.3   8.5   8.4   8.1   8.0   7.8   7.6   7.6   7.6  ...   4.2   \n",
       "\n",
       "   2009  2010  2011  2012  2013  2014  2015  2016      2017  \n",
       "0   5.5   5.4   5.4   5.4   5.1   5.2   4.8   4.9  4.591825  \n",
       "1   4.3   4.5   4.3   4.6   4.3   4.4   5.1   5.1  5.100000  \n",
       "\n",
       "[2 rows x 59 columns]"
      ]
     },
     "execution_count": 3,
     "metadata": {},
     "output_type": "execute_result"
    }
   ],
   "source": [
    "# importando dataset com taxas de casamento\n",
    "mar = excel.parse('MarriageRates', sep=';', encoding='utf-8-sig', header=3, nrows=51)\n",
    "mar.replace(to_replace = '..', value = np.NAN, inplace = True) # trocando '..' por NaN\n",
    "mar.drop('Note', axis=1, inplace=True)\n",
    "\n",
    "mar.head(2)"
   ]
  },
  {
   "cell_type": "markdown",
   "metadata": {},
   "source": [
    "<br>\n",
    "\n",
    "Agora, vamos fazer a mesma coisa para as **taxas de divórcio**.\n",
    "\n",
    "$$Taxa~de~divórcios = \\frac{Nº~de~divórcios}{1000~hab.} $$"
   ]
  },
  {
   "cell_type": "code",
   "execution_count": 4,
   "metadata": {
    "ExecuteTime": {
     "end_time": "2019-12-07T18:30:34.498597Z",
     "start_time": "2019-12-07T18:30:34.440016Z"
    }
   },
   "outputs": [
    {
     "data": {
      "text/html": [
       "<div>\n",
       "<style scoped>\n",
       "    .dataframe tbody tr th:only-of-type {\n",
       "        vertical-align: middle;\n",
       "    }\n",
       "\n",
       "    .dataframe tbody tr th {\n",
       "        vertical-align: top;\n",
       "    }\n",
       "\n",
       "    .dataframe thead th {\n",
       "        text-align: right;\n",
       "    }\n",
       "</style>\n",
       "<table border=\"1\" class=\"dataframe\">\n",
       "  <thead>\n",
       "    <tr style=\"text-align: right;\">\n",
       "      <th></th>\n",
       "      <th>Country</th>\n",
       "      <th>1960</th>\n",
       "      <th>1961</th>\n",
       "      <th>1962</th>\n",
       "      <th>1963</th>\n",
       "      <th>1964</th>\n",
       "      <th>1965</th>\n",
       "      <th>1966</th>\n",
       "      <th>1967</th>\n",
       "      <th>1968</th>\n",
       "      <th>...</th>\n",
       "      <th>2008</th>\n",
       "      <th>2009</th>\n",
       "      <th>2010</th>\n",
       "      <th>2011</th>\n",
       "      <th>2012</th>\n",
       "      <th>2013</th>\n",
       "      <th>2014</th>\n",
       "      <th>2015</th>\n",
       "      <th>2016</th>\n",
       "      <th>2017</th>\n",
       "    </tr>\n",
       "  </thead>\n",
       "  <tbody>\n",
       "    <tr>\n",
       "      <td>0</td>\n",
       "      <td>Australia</td>\n",
       "      <td>NaN</td>\n",
       "      <td>NaN</td>\n",
       "      <td>NaN</td>\n",
       "      <td>NaN</td>\n",
       "      <td>NaN</td>\n",
       "      <td>NaN</td>\n",
       "      <td>NaN</td>\n",
       "      <td>NaN</td>\n",
       "      <td>NaN</td>\n",
       "      <td>...</td>\n",
       "      <td>2.2</td>\n",
       "      <td>2.3</td>\n",
       "      <td>2.3</td>\n",
       "      <td>2.2</td>\n",
       "      <td>2.2</td>\n",
       "      <td>2.1</td>\n",
       "      <td>2.0</td>\n",
       "      <td>2.0</td>\n",
       "      <td>1.931599</td>\n",
       "      <td>2.0</td>\n",
       "    </tr>\n",
       "    <tr>\n",
       "      <td>1</td>\n",
       "      <td>Austria</td>\n",
       "      <td>1.1</td>\n",
       "      <td>1.1</td>\n",
       "      <td>1.1</td>\n",
       "      <td>1.1</td>\n",
       "      <td>1.2</td>\n",
       "      <td>1.2</td>\n",
       "      <td>1.2</td>\n",
       "      <td>1.2</td>\n",
       "      <td>1.3</td>\n",
       "      <td>...</td>\n",
       "      <td>2.4</td>\n",
       "      <td>2.3</td>\n",
       "      <td>2.1</td>\n",
       "      <td>2.1</td>\n",
       "      <td>2.0</td>\n",
       "      <td>1.9</td>\n",
       "      <td>1.9</td>\n",
       "      <td>1.9</td>\n",
       "      <td>1.800000</td>\n",
       "      <td>1.8</td>\n",
       "    </tr>\n",
       "  </tbody>\n",
       "</table>\n",
       "<p>2 rows × 59 columns</p>\n",
       "</div>"
      ],
      "text/plain": [
       "     Country  1960  1961  1962  1963  1964  1965  1966  1967  1968  ...  2008  \\\n",
       "0  Australia   NaN   NaN   NaN   NaN   NaN   NaN   NaN   NaN   NaN  ...   2.2   \n",
       "1    Austria   1.1   1.1   1.1   1.1   1.2   1.2   1.2   1.2   1.3  ...   2.4   \n",
       "\n",
       "   2009  2010  2011  2012  2013  2014  2015      2016  2017  \n",
       "0   2.3   2.3   2.2   2.2   2.1   2.0   2.0  1.931599   2.0  \n",
       "1   2.3   2.1   2.1   2.0   1.9   1.9   1.9  1.800000   1.8  \n",
       "\n",
       "[2 rows x 59 columns]"
      ]
     },
     "execution_count": 4,
     "metadata": {},
     "output_type": "execute_result"
    }
   ],
   "source": [
    "# importando dataset com taxas de divórcio\n",
    "div = excel.parse('DivorceRate', sep=';', encoding='utf-8-sig', header=3, nrows=51)\n",
    "div.replace(to_replace = '..', value = np.NAN, inplace = True) # trocando '..' por NaN\n",
    "div.drop('Note', axis=1, inplace=True)\n",
    "\n",
    "div.head(2)"
   ]
  },
  {
   "cell_type": "markdown",
   "metadata": {},
   "source": [
    "## Ajustes \n",
    "\n",
    "Primeiramente, vamos passar os datasets para o formato *long*"
   ]
  },
  {
   "cell_type": "code",
   "execution_count": 5,
   "metadata": {
    "ExecuteTime": {
     "end_time": "2019-12-07T18:30:36.397999Z",
     "start_time": "2019-12-07T18:30:36.368820Z"
    }
   },
   "outputs": [
    {
     "data": {
      "text/html": [
       "<div>\n",
       "<style scoped>\n",
       "    .dataframe tbody tr th:only-of-type {\n",
       "        vertical-align: middle;\n",
       "    }\n",
       "\n",
       "    .dataframe tbody tr th {\n",
       "        vertical-align: top;\n",
       "    }\n",
       "\n",
       "    .dataframe thead th {\n",
       "        text-align: right;\n",
       "    }\n",
       "</style>\n",
       "<table border=\"1\" class=\"dataframe\">\n",
       "  <thead>\n",
       "    <tr style=\"text-align: right;\">\n",
       "      <th></th>\n",
       "      <th>Country</th>\n",
       "      <th>Year</th>\n",
       "      <th>marriage_rate</th>\n",
       "    </tr>\n",
       "  </thead>\n",
       "  <tbody>\n",
       "    <tr>\n",
       "      <td>0</td>\n",
       "      <td>Australia</td>\n",
       "      <td>1970</td>\n",
       "      <td>9.2798</td>\n",
       "    </tr>\n",
       "    <tr>\n",
       "      <td>1</td>\n",
       "      <td>Australia</td>\n",
       "      <td>1980</td>\n",
       "      <td>7.4000</td>\n",
       "    </tr>\n",
       "    <tr>\n",
       "      <td>2</td>\n",
       "      <td>Australia</td>\n",
       "      <td>1981</td>\n",
       "      <td>7.6000</td>\n",
       "    </tr>\n",
       "    <tr>\n",
       "      <td>3</td>\n",
       "      <td>Australia</td>\n",
       "      <td>1982</td>\n",
       "      <td>7.7000</td>\n",
       "    </tr>\n",
       "    <tr>\n",
       "      <td>4</td>\n",
       "      <td>Australia</td>\n",
       "      <td>1983</td>\n",
       "      <td>7.5000</td>\n",
       "    </tr>\n",
       "  </tbody>\n",
       "</table>\n",
       "</div>"
      ],
      "text/plain": [
       "     Country  Year  marriage_rate\n",
       "0  Australia  1970         9.2798\n",
       "1  Australia  1980         7.4000\n",
       "2  Australia  1981         7.6000\n",
       "3  Australia  1982         7.7000\n",
       "4  Australia  1983         7.5000"
      ]
     },
     "execution_count": 5,
     "metadata": {},
     "output_type": "execute_result"
    }
   ],
   "source": [
    "# casamentos\n",
    "mar = mar.set_index('Country')\n",
    "mar = mar.stack().reset_index()\n",
    "mar.columns = ['Country', 'Year', 'marriage_rate']\n",
    "\n",
    "# depois...\n",
    "mar.head()"
   ]
  },
  {
   "cell_type": "code",
   "execution_count": 6,
   "metadata": {
    "ExecuteTime": {
     "end_time": "2019-12-07T18:30:37.678485Z",
     "start_time": "2019-12-07T18:30:37.653773Z"
    }
   },
   "outputs": [
    {
     "data": {
      "text/html": [
       "<div>\n",
       "<style scoped>\n",
       "    .dataframe tbody tr th:only-of-type {\n",
       "        vertical-align: middle;\n",
       "    }\n",
       "\n",
       "    .dataframe tbody tr th {\n",
       "        vertical-align: top;\n",
       "    }\n",
       "\n",
       "    .dataframe thead th {\n",
       "        text-align: right;\n",
       "    }\n",
       "</style>\n",
       "<table border=\"1\" class=\"dataframe\">\n",
       "  <thead>\n",
       "    <tr style=\"text-align: right;\">\n",
       "      <th></th>\n",
       "      <th>Country</th>\n",
       "      <th>Year</th>\n",
       "      <th>divorce_rate</th>\n",
       "    </tr>\n",
       "  </thead>\n",
       "  <tbody>\n",
       "    <tr>\n",
       "      <td>0</td>\n",
       "      <td>Australia</td>\n",
       "      <td>1970</td>\n",
       "      <td>0.9753</td>\n",
       "    </tr>\n",
       "    <tr>\n",
       "      <td>1</td>\n",
       "      <td>Australia</td>\n",
       "      <td>1980</td>\n",
       "      <td>2.7000</td>\n",
       "    </tr>\n",
       "    <tr>\n",
       "      <td>2</td>\n",
       "      <td>Australia</td>\n",
       "      <td>1981</td>\n",
       "      <td>2.8000</td>\n",
       "    </tr>\n",
       "    <tr>\n",
       "      <td>3</td>\n",
       "      <td>Australia</td>\n",
       "      <td>1982</td>\n",
       "      <td>2.9000</td>\n",
       "    </tr>\n",
       "    <tr>\n",
       "      <td>4</td>\n",
       "      <td>Australia</td>\n",
       "      <td>1983</td>\n",
       "      <td>2.8000</td>\n",
       "    </tr>\n",
       "  </tbody>\n",
       "</table>\n",
       "</div>"
      ],
      "text/plain": [
       "     Country  Year  divorce_rate\n",
       "0  Australia  1970        0.9753\n",
       "1  Australia  1980        2.7000\n",
       "2  Australia  1981        2.8000\n",
       "3  Australia  1982        2.9000\n",
       "4  Australia  1983        2.8000"
      ]
     },
     "execution_count": 6,
     "metadata": {},
     "output_type": "execute_result"
    }
   ],
   "source": [
    "# divórcios\n",
    "div = div.set_index('Country')\n",
    "div = div.stack().reset_index()\n",
    "div.columns = ['Country', 'Year', 'divorce_rate']\n",
    "\n",
    "div.head()"
   ]
  },
  {
   "cell_type": "markdown",
   "metadata": {},
   "source": [
    "### Criando coluna com os nomes dos continentes"
   ]
  },
  {
   "cell_type": "code",
   "execution_count": 7,
   "metadata": {
    "ExecuteTime": {
     "end_time": "2019-12-07T18:30:39.245666Z",
     "start_time": "2019-12-07T18:30:39.241644Z"
    }
   },
   "outputs": [],
   "source": [
    "# dicionário com Siglas e Nomes\n",
    "continents = {\n",
    "    'NA': 'North America',\n",
    "    'SA': 'South America', \n",
    "    'AS': 'Asia',\n",
    "    'OC': 'Oceania',\n",
    "    'AF': 'Africa',\n",
    "    'EU': 'Europe'\n",
    "}"
   ]
  },
  {
   "cell_type": "code",
   "execution_count": 8,
   "metadata": {
    "ExecuteTime": {
     "end_time": "2019-12-07T18:30:39.704730Z",
     "start_time": "2019-12-07T18:30:39.700081Z"
    }
   },
   "outputs": [],
   "source": [
    "def continente(pais):\n",
    "    if pais == 'Korea':\n",
    "        return 'Asia'\n",
    "    else:\n",
    "        country_code = pc.country_name_to_country_alpha2(pais, cn_name_format=\"default\")\n",
    "        continent_name = pc.country_alpha2_to_continent_code(country_code)\n",
    "    return continents[continent_name]"
   ]
  },
  {
   "cell_type": "code",
   "execution_count": 9,
   "metadata": {
    "ExecuteTime": {
     "end_time": "2019-12-07T18:30:40.384902Z",
     "start_time": "2019-12-07T18:30:40.096992Z"
    }
   },
   "outputs": [],
   "source": [
    "mar['Continent'] = mar['Country'].apply(lambda x:continente(x))\n",
    "div['Continent'] = div['Country'].apply(lambda x:continente(x))"
   ]
  },
  {
   "cell_type": "markdown",
   "metadata": {},
   "source": [
    "#### Conhecendo o dataset \n",
    "\n",
    "Agora, para conhecermos um pouco melhor nosso dataset, vamos visualizar o volume (contagem) de informações que temos de cada continente."
   ]
  },
  {
   "cell_type": "code",
   "execution_count": 10,
   "metadata": {
    "ExecuteTime": {
     "end_time": "2019-12-07T18:30:41.686378Z",
     "start_time": "2019-12-07T18:30:41.674165Z"
    }
   },
   "outputs": [
    {
     "name": "stdout",
     "output_type": "stream",
     "text": [
      "Casamentos:\n",
      "Ano inicial: 1960 \tAno final: 2017\n",
      "nº de obs: 2204\n",
      "\n",
      "Divórcios:\n",
      "Ano inicial: 1960 \tAno final: 2017\n",
      "nº de obs: 1946\n"
     ]
    }
   ],
   "source": [
    "print('Casamentos:')\n",
    "print('Ano inicial:', mar['Year'].min(), '\\tAno final:', mar['Year'].max())\n",
    "print('nº de obs:', mar.shape[0])\n",
    "\n",
    "print('\\nDivórcios:')\n",
    "print('Ano inicial:', div['Year'].min(), '\\tAno final:', div['Year'].max())\n",
    "print('nº de obs:', div.shape[0])"
   ]
  },
  {
   "cell_type": "markdown",
   "metadata": {
    "ExecuteTime": {
     "end_time": "2019-12-04T23:40:18.932505Z",
     "start_time": "2019-12-04T23:40:18.914342Z"
    }
   },
   "source": [
    "### Exportando em csv"
   ]
  },
  {
   "cell_type": "code",
   "execution_count": 11,
   "metadata": {
    "ExecuteTime": {
     "end_time": "2019-12-07T18:30:53.923170Z",
     "start_time": "2019-12-07T18:30:53.707981Z"
    }
   },
   "outputs": [],
   "source": [
    "mar.to_csv('./data/marriages.csv', sep=',', encoding='utf-8-sig')\n",
    "div.to_csv('./data/divorces.csv', sep=',', encoding='utf-8-sig')"
   ]
  },
  {
   "cell_type": "markdown",
   "metadata": {},
   "source": [
    "<br>\n",
    "\n",
    "## Importando os datasets com idade média de casamento\n",
    "\n",
    "Vamos coletar a idade média na qual os homens e mulheres casaram e adicionar ao dataframe principal."
   ]
  },
  {
   "cell_type": "code",
   "execution_count": 12,
   "metadata": {
    "ExecuteTime": {
     "end_time": "2019-12-07T18:30:56.604849Z",
     "start_time": "2019-12-07T18:30:56.540762Z"
    }
   },
   "outputs": [
    {
     "data": {
      "text/html": [
       "<div>\n",
       "<style scoped>\n",
       "    .dataframe tbody tr th:only-of-type {\n",
       "        vertical-align: middle;\n",
       "    }\n",
       "\n",
       "    .dataframe tbody tr th {\n",
       "        vertical-align: top;\n",
       "    }\n",
       "\n",
       "    .dataframe thead th {\n",
       "        text-align: right;\n",
       "    }\n",
       "</style>\n",
       "<table border=\"1\" class=\"dataframe\">\n",
       "  <thead>\n",
       "    <tr style=\"text-align: right;\">\n",
       "      <th></th>\n",
       "      <th>Country</th>\n",
       "      <th>Gender</th>\n",
       "      <th>1990</th>\n",
       "      <th>1991</th>\n",
       "      <th>1992</th>\n",
       "      <th>1993</th>\n",
       "      <th>1994</th>\n",
       "      <th>1995</th>\n",
       "      <th>1996</th>\n",
       "      <th>1997</th>\n",
       "      <th>...</th>\n",
       "      <th>2008</th>\n",
       "      <th>2009</th>\n",
       "      <th>2010</th>\n",
       "      <th>2011</th>\n",
       "      <th>2012</th>\n",
       "      <th>2013</th>\n",
       "      <th>2014</th>\n",
       "      <th>2015</th>\n",
       "      <th>2016</th>\n",
       "      <th>2017</th>\n",
       "    </tr>\n",
       "  </thead>\n",
       "  <tbody>\n",
       "    <tr>\n",
       "      <td>0</td>\n",
       "      <td>Australia</td>\n",
       "      <td>Male</td>\n",
       "      <td>26.5</td>\n",
       "      <td>26.7</td>\n",
       "      <td>26.9</td>\n",
       "      <td>27.0</td>\n",
       "      <td>27.2</td>\n",
       "      <td>27.3</td>\n",
       "      <td>27.6</td>\n",
       "      <td>27.8</td>\n",
       "      <td>...</td>\n",
       "      <td>29.6</td>\n",
       "      <td>29.6</td>\n",
       "      <td>29.6</td>\n",
       "      <td>29.7</td>\n",
       "      <td>29.8</td>\n",
       "      <td>29.9</td>\n",
       "      <td>30.0</td>\n",
       "      <td>30.1</td>\n",
       "      <td>30.3</td>\n",
       "      <td>30.4</td>\n",
       "    </tr>\n",
       "    <tr>\n",
       "      <td>1</td>\n",
       "      <td>NaN</td>\n",
       "      <td>Female</td>\n",
       "      <td>24.3</td>\n",
       "      <td>24.5</td>\n",
       "      <td>24.7</td>\n",
       "      <td>24.8</td>\n",
       "      <td>25.1</td>\n",
       "      <td>25.3</td>\n",
       "      <td>25.7</td>\n",
       "      <td>25.9</td>\n",
       "      <td>...</td>\n",
       "      <td>27.7</td>\n",
       "      <td>27.7</td>\n",
       "      <td>27.9</td>\n",
       "      <td>28.0</td>\n",
       "      <td>28.1</td>\n",
       "      <td>28.3</td>\n",
       "      <td>28.4</td>\n",
       "      <td>28.5</td>\n",
       "      <td>28.7</td>\n",
       "      <td>28.8</td>\n",
       "    </tr>\n",
       "    <tr>\n",
       "      <td>2</td>\n",
       "      <td>Austria</td>\n",
       "      <td>Male</td>\n",
       "      <td>27.7</td>\n",
       "      <td>27.9</td>\n",
       "      <td>28.0</td>\n",
       "      <td>28.4</td>\n",
       "      <td>28.7</td>\n",
       "      <td>29.0</td>\n",
       "      <td>29.1</td>\n",
       "      <td>29.3</td>\n",
       "      <td>...</td>\n",
       "      <td>32.2</td>\n",
       "      <td>32.5</td>\n",
       "      <td>NaN</td>\n",
       "      <td>32.9</td>\n",
       "      <td>33.2</td>\n",
       "      <td>NaN</td>\n",
       "      <td>NaN</td>\n",
       "      <td>NaN</td>\n",
       "      <td>NaN</td>\n",
       "      <td>34.2</td>\n",
       "    </tr>\n",
       "    <tr>\n",
       "      <td>3</td>\n",
       "      <td>NaN</td>\n",
       "      <td>Female</td>\n",
       "      <td>25.2</td>\n",
       "      <td>25.4</td>\n",
       "      <td>25.6</td>\n",
       "      <td>25.8</td>\n",
       "      <td>26.1</td>\n",
       "      <td>26.3</td>\n",
       "      <td>26.5</td>\n",
       "      <td>26.8</td>\n",
       "      <td>...</td>\n",
       "      <td>29.5</td>\n",
       "      <td>29.9</td>\n",
       "      <td>NaN</td>\n",
       "      <td>30.3</td>\n",
       "      <td>30.6</td>\n",
       "      <td>NaN</td>\n",
       "      <td>NaN</td>\n",
       "      <td>NaN</td>\n",
       "      <td>NaN</td>\n",
       "      <td>31.5</td>\n",
       "    </tr>\n",
       "  </tbody>\n",
       "</table>\n",
       "<p>4 rows × 30 columns</p>\n",
       "</div>"
      ],
      "text/plain": [
       "     Country  Gender  1990  1991  1992  1993  1994  1995  1996  1997  ...  \\\n",
       "0  Australia    Male  26.5  26.7  26.9  27.0  27.2  27.3  27.6  27.8  ...   \n",
       "1        NaN  Female  24.3  24.5  24.7  24.8  25.1  25.3  25.7  25.9  ...   \n",
       "2    Austria    Male  27.7  27.9  28.0  28.4  28.7  29.0  29.1  29.3  ...   \n",
       "3        NaN  Female  25.2  25.4  25.6  25.8  26.1  26.3  26.5  26.8  ...   \n",
       "\n",
       "   2008  2009  2010  2011  2012  2013  2014  2015  2016  2017  \n",
       "0  29.6  29.6  29.6  29.7  29.8  29.9  30.0  30.1  30.3  30.4  \n",
       "1  27.7  27.7  27.9  28.0  28.1  28.3  28.4  28.5  28.7  28.8  \n",
       "2  32.2  32.5   NaN  32.9  33.2   NaN   NaN   NaN   NaN  34.2  \n",
       "3  29.5  29.9   NaN  30.3  30.6   NaN   NaN   NaN   NaN  31.5  \n",
       "\n",
       "[4 rows x 30 columns]"
      ]
     },
     "execution_count": 12,
     "metadata": {},
     "output_type": "execute_result"
    }
   ],
   "source": [
    "mean = excel.parse('MeanAgeFirstMarriage', sep=';', encoding='utf-8-sig', header=3, nrows=82)\n",
    "mean.replace(to_replace = '..', value = np.NAN, inplace = True) # trocando '..' por NaN\n",
    "mean.drop('Note', axis=1, inplace=True)\n",
    "\n",
    "mean.head(4)"
   ]
  },
  {
   "cell_type": "markdown",
   "metadata": {},
   "source": [
    "Para cada país, temos a idade média em que homens e mulheres casaram, de 1990 a 2017.\n",
    "\n",
    "### Pequenos ajustes...\n",
    "\n",
    "\n",
    "#### Primeiramente, vamos preencher os valores abaixo de cada país com o nome do país"
   ]
  },
  {
   "cell_type": "code",
   "execution_count": 13,
   "metadata": {
    "ExecuteTime": {
     "end_time": "2019-12-07T18:30:58.684081Z",
     "start_time": "2019-12-07T18:30:58.561246Z"
    }
   },
   "outputs": [
    {
     "data": {
      "text/html": [
       "<div>\n",
       "<style scoped>\n",
       "    .dataframe tbody tr th:only-of-type {\n",
       "        vertical-align: middle;\n",
       "    }\n",
       "\n",
       "    .dataframe tbody tr th {\n",
       "        vertical-align: top;\n",
       "    }\n",
       "\n",
       "    .dataframe thead th {\n",
       "        text-align: right;\n",
       "    }\n",
       "</style>\n",
       "<table border=\"1\" class=\"dataframe\">\n",
       "  <thead>\n",
       "    <tr style=\"text-align: right;\">\n",
       "      <th></th>\n",
       "      <th>Country</th>\n",
       "      <th>Gender</th>\n",
       "      <th>1990</th>\n",
       "      <th>1991</th>\n",
       "      <th>1992</th>\n",
       "      <th>1993</th>\n",
       "      <th>1994</th>\n",
       "      <th>1995</th>\n",
       "      <th>1996</th>\n",
       "      <th>1997</th>\n",
       "      <th>...</th>\n",
       "      <th>2008</th>\n",
       "      <th>2009</th>\n",
       "      <th>2010</th>\n",
       "      <th>2011</th>\n",
       "      <th>2012</th>\n",
       "      <th>2013</th>\n",
       "      <th>2014</th>\n",
       "      <th>2015</th>\n",
       "      <th>2016</th>\n",
       "      <th>2017</th>\n",
       "    </tr>\n",
       "  </thead>\n",
       "  <tbody>\n",
       "    <tr>\n",
       "      <td>0</td>\n",
       "      <td>Australia</td>\n",
       "      <td>Male</td>\n",
       "      <td>26.5</td>\n",
       "      <td>26.7</td>\n",
       "      <td>26.9</td>\n",
       "      <td>27.0</td>\n",
       "      <td>27.2</td>\n",
       "      <td>27.3</td>\n",
       "      <td>27.6</td>\n",
       "      <td>27.8</td>\n",
       "      <td>...</td>\n",
       "      <td>29.6</td>\n",
       "      <td>29.6</td>\n",
       "      <td>29.6</td>\n",
       "      <td>29.7</td>\n",
       "      <td>29.8</td>\n",
       "      <td>29.9</td>\n",
       "      <td>30.0</td>\n",
       "      <td>30.1</td>\n",
       "      <td>30.3</td>\n",
       "      <td>30.4</td>\n",
       "    </tr>\n",
       "    <tr>\n",
       "      <td>1</td>\n",
       "      <td>Australia</td>\n",
       "      <td>Female</td>\n",
       "      <td>24.3</td>\n",
       "      <td>24.5</td>\n",
       "      <td>24.7</td>\n",
       "      <td>24.8</td>\n",
       "      <td>25.1</td>\n",
       "      <td>25.3</td>\n",
       "      <td>25.7</td>\n",
       "      <td>25.9</td>\n",
       "      <td>...</td>\n",
       "      <td>27.7</td>\n",
       "      <td>27.7</td>\n",
       "      <td>27.9</td>\n",
       "      <td>28.0</td>\n",
       "      <td>28.1</td>\n",
       "      <td>28.3</td>\n",
       "      <td>28.4</td>\n",
       "      <td>28.5</td>\n",
       "      <td>28.7</td>\n",
       "      <td>28.8</td>\n",
       "    </tr>\n",
       "    <tr>\n",
       "      <td>2</td>\n",
       "      <td>Austria</td>\n",
       "      <td>Male</td>\n",
       "      <td>27.7</td>\n",
       "      <td>27.9</td>\n",
       "      <td>28.0</td>\n",
       "      <td>28.4</td>\n",
       "      <td>28.7</td>\n",
       "      <td>29.0</td>\n",
       "      <td>29.1</td>\n",
       "      <td>29.3</td>\n",
       "      <td>...</td>\n",
       "      <td>32.2</td>\n",
       "      <td>32.5</td>\n",
       "      <td>NaN</td>\n",
       "      <td>32.9</td>\n",
       "      <td>33.2</td>\n",
       "      <td>NaN</td>\n",
       "      <td>NaN</td>\n",
       "      <td>NaN</td>\n",
       "      <td>NaN</td>\n",
       "      <td>34.2</td>\n",
       "    </tr>\n",
       "    <tr>\n",
       "      <td>3</td>\n",
       "      <td>Austria</td>\n",
       "      <td>Female</td>\n",
       "      <td>25.2</td>\n",
       "      <td>25.4</td>\n",
       "      <td>25.6</td>\n",
       "      <td>25.8</td>\n",
       "      <td>26.1</td>\n",
       "      <td>26.3</td>\n",
       "      <td>26.5</td>\n",
       "      <td>26.8</td>\n",
       "      <td>...</td>\n",
       "      <td>29.5</td>\n",
       "      <td>29.9</td>\n",
       "      <td>NaN</td>\n",
       "      <td>30.3</td>\n",
       "      <td>30.6</td>\n",
       "      <td>NaN</td>\n",
       "      <td>NaN</td>\n",
       "      <td>NaN</td>\n",
       "      <td>NaN</td>\n",
       "      <td>31.5</td>\n",
       "    </tr>\n",
       "  </tbody>\n",
       "</table>\n",
       "<p>4 rows × 30 columns</p>\n",
       "</div>"
      ],
      "text/plain": [
       "     Country  Gender  1990  1991  1992  1993  1994  1995  1996  1997  ...  \\\n",
       "0  Australia    Male  26.5  26.7  26.9  27.0  27.2  27.3  27.6  27.8  ...   \n",
       "1  Australia  Female  24.3  24.5  24.7  24.8  25.1  25.3  25.7  25.9  ...   \n",
       "2    Austria    Male  27.7  27.9  28.0  28.4  28.7  29.0  29.1  29.3  ...   \n",
       "3    Austria  Female  25.2  25.4  25.6  25.8  26.1  26.3  26.5  26.8  ...   \n",
       "\n",
       "   2008  2009  2010  2011  2012  2013  2014  2015  2016  2017  \n",
       "0  29.6  29.6  29.6  29.7  29.8  29.9  30.0  30.1  30.3  30.4  \n",
       "1  27.7  27.7  27.9  28.0  28.1  28.3  28.4  28.5  28.7  28.8  \n",
       "2  32.2  32.5   NaN  32.9  33.2   NaN   NaN   NaN   NaN  34.2  \n",
       "3  29.5  29.9   NaN  30.3  30.6   NaN   NaN   NaN   NaN  31.5  \n",
       "\n",
       "[4 rows x 30 columns]"
      ]
     },
     "execution_count": 13,
     "metadata": {},
     "output_type": "execute_result"
    }
   ],
   "source": [
    "for country in mean[~mean['Country'].isna()]['Country'].unique():\n",
    "    i = mean[mean['Country']==country].index[0]\n",
    "    mean.iloc[i+1,0] = mean.iloc[i, 0]\n",
    "\n",
    "mean.head(4)"
   ]
  },
  {
   "cell_type": "markdown",
   "metadata": {},
   "source": [
    "#### Agora, vamos passar o dataset para o formato *long*"
   ]
  },
  {
   "cell_type": "code",
   "execution_count": 14,
   "metadata": {
    "ExecuteTime": {
     "end_time": "2019-12-07T18:31:00.666680Z",
     "start_time": "2019-12-07T18:31:00.645582Z"
    }
   },
   "outputs": [],
   "source": [
    "mean.set_index(['Country', 'Gender'], inplace=True)\n",
    "mean = mean.stack().reset_index()\n",
    "mean = mean.rename(columns={'level_2':'Year', 0:'mean_age'})"
   ]
  },
  {
   "cell_type": "code",
   "execution_count": 15,
   "metadata": {
    "ExecuteTime": {
     "end_time": "2019-12-07T18:31:01.192436Z",
     "start_time": "2019-12-07T18:31:01.172487Z"
    }
   },
   "outputs": [
    {
     "data": {
      "text/html": [
       "<div>\n",
       "<style scoped>\n",
       "    .dataframe tbody tr th:only-of-type {\n",
       "        vertical-align: middle;\n",
       "    }\n",
       "\n",
       "    .dataframe tbody tr th {\n",
       "        vertical-align: top;\n",
       "    }\n",
       "\n",
       "    .dataframe thead th {\n",
       "        text-align: right;\n",
       "    }\n",
       "</style>\n",
       "<table border=\"1\" class=\"dataframe\">\n",
       "  <thead>\n",
       "    <tr style=\"text-align: right;\">\n",
       "      <th></th>\n",
       "      <th>Country</th>\n",
       "      <th>Gender</th>\n",
       "      <th>Year</th>\n",
       "      <th>mean_age</th>\n",
       "    </tr>\n",
       "  </thead>\n",
       "  <tbody>\n",
       "    <tr>\n",
       "      <td>0</td>\n",
       "      <td>Australia</td>\n",
       "      <td>Male</td>\n",
       "      <td>1990</td>\n",
       "      <td>26.5</td>\n",
       "    </tr>\n",
       "    <tr>\n",
       "      <td>1</td>\n",
       "      <td>Australia</td>\n",
       "      <td>Male</td>\n",
       "      <td>1991</td>\n",
       "      <td>26.7</td>\n",
       "    </tr>\n",
       "    <tr>\n",
       "      <td>2</td>\n",
       "      <td>Australia</td>\n",
       "      <td>Male</td>\n",
       "      <td>1992</td>\n",
       "      <td>26.9</td>\n",
       "    </tr>\n",
       "  </tbody>\n",
       "</table>\n",
       "</div>"
      ],
      "text/plain": [
       "     Country Gender  Year  mean_age\n",
       "0  Australia   Male  1990      26.5\n",
       "1  Australia   Male  1991      26.7\n",
       "2  Australia   Male  1992      26.9"
      ]
     },
     "execution_count": 15,
     "metadata": {},
     "output_type": "execute_result"
    }
   ],
   "source": [
    "mean.head(3)"
   ]
  },
  {
   "cell_type": "markdown",
   "metadata": {},
   "source": [
    "#### coletando idades "
   ]
  },
  {
   "cell_type": "code",
   "execution_count": 16,
   "metadata": {
    "ExecuteTime": {
     "end_time": "2019-12-07T18:31:02.939169Z",
     "start_time": "2019-12-07T18:31:02.922564Z"
    }
   },
   "outputs": [],
   "source": [
    "male_age = mean[mean['Gender']=='Male'].copy()\n",
    "female_age = mean[mean['Gender']=='Female'].copy()\n",
    "\n",
    "# renomeando colunas\n",
    "male_age.rename(columns={'mean_age':'male_mean_age'}, inplace=True)\n",
    "female_age.rename(columns={'mean_age':'female_mean_age'}, inplace=True)"
   ]
  },
  {
   "cell_type": "code",
   "execution_count": 17,
   "metadata": {
    "ExecuteTime": {
     "end_time": "2019-12-07T18:31:03.649906Z",
     "start_time": "2019-12-07T18:31:03.488375Z"
    }
   },
   "outputs": [],
   "source": [
    "age = pd.merge(male_age, female_age, how='outer', on=['Country', 'Year'])\n",
    "age.drop(['Gender_x', 'Gender_y'],axis=1 ,inplace=True)"
   ]
  },
  {
   "cell_type": "markdown",
   "metadata": {},
   "source": [
    "#### agora, vamos criar uma coluna com a idade média do casal"
   ]
  },
  {
   "cell_type": "code",
   "execution_count": 18,
   "metadata": {
    "ExecuteTime": {
     "end_time": "2019-12-07T18:31:05.232688Z",
     "start_time": "2019-12-07T18:31:05.065888Z"
    }
   },
   "outputs": [
    {
     "data": {
      "text/html": [
       "<div>\n",
       "<style scoped>\n",
       "    .dataframe tbody tr th:only-of-type {\n",
       "        vertical-align: middle;\n",
       "    }\n",
       "\n",
       "    .dataframe tbody tr th {\n",
       "        vertical-align: top;\n",
       "    }\n",
       "\n",
       "    .dataframe thead th {\n",
       "        text-align: right;\n",
       "    }\n",
       "</style>\n",
       "<table border=\"1\" class=\"dataframe\">\n",
       "  <thead>\n",
       "    <tr style=\"text-align: right;\">\n",
       "      <th></th>\n",
       "      <th>Country</th>\n",
       "      <th>Year</th>\n",
       "      <th>male_mean_age</th>\n",
       "      <th>female_mean_age</th>\n",
       "      <th>couple_mean_age</th>\n",
       "    </tr>\n",
       "  </thead>\n",
       "  <tbody>\n",
       "    <tr>\n",
       "      <td>0</td>\n",
       "      <td>Australia</td>\n",
       "      <td>1990</td>\n",
       "      <td>26.5</td>\n",
       "      <td>24.3</td>\n",
       "      <td>25.4</td>\n",
       "    </tr>\n",
       "    <tr>\n",
       "      <td>1</td>\n",
       "      <td>Australia</td>\n",
       "      <td>1991</td>\n",
       "      <td>26.7</td>\n",
       "      <td>24.5</td>\n",
       "      <td>25.6</td>\n",
       "    </tr>\n",
       "  </tbody>\n",
       "</table>\n",
       "</div>"
      ],
      "text/plain": [
       "     Country  Year  male_mean_age  female_mean_age  couple_mean_age\n",
       "0  Australia  1990           26.5             24.3             25.4\n",
       "1  Australia  1991           26.7             24.5             25.6"
      ]
     },
     "execution_count": 18,
     "metadata": {},
     "output_type": "execute_result"
    }
   ],
   "source": [
    "age['couple_mean_age'] = age[['male_mean_age', 'female_mean_age']].apply(np.mean, axis=1)\n",
    "age.head(2)"
   ]
  },
  {
   "cell_type": "markdown",
   "metadata": {},
   "source": [
    "#### por fim, vamos criar uma coluna com os nomes dos continentes"
   ]
  },
  {
   "cell_type": "code",
   "execution_count": 19,
   "metadata": {
    "ExecuteTime": {
     "end_time": "2019-12-07T18:31:06.990623Z",
     "start_time": "2019-12-07T18:31:06.963105Z"
    }
   },
   "outputs": [
    {
     "data": {
      "text/html": [
       "<div>\n",
       "<style scoped>\n",
       "    .dataframe tbody tr th:only-of-type {\n",
       "        vertical-align: middle;\n",
       "    }\n",
       "\n",
       "    .dataframe tbody tr th {\n",
       "        vertical-align: top;\n",
       "    }\n",
       "\n",
       "    .dataframe thead th {\n",
       "        text-align: right;\n",
       "    }\n",
       "</style>\n",
       "<table border=\"1\" class=\"dataframe\">\n",
       "  <thead>\n",
       "    <tr style=\"text-align: right;\">\n",
       "      <th></th>\n",
       "      <th>Country</th>\n",
       "      <th>Year</th>\n",
       "      <th>male_mean_age</th>\n",
       "      <th>female_mean_age</th>\n",
       "      <th>couple_mean_age</th>\n",
       "      <th>Continent</th>\n",
       "    </tr>\n",
       "  </thead>\n",
       "  <tbody>\n",
       "    <tr>\n",
       "      <td>0</td>\n",
       "      <td>Australia</td>\n",
       "      <td>1990</td>\n",
       "      <td>26.5</td>\n",
       "      <td>24.3</td>\n",
       "      <td>25.4</td>\n",
       "      <td>Oceania</td>\n",
       "    </tr>\n",
       "    <tr>\n",
       "      <td>1</td>\n",
       "      <td>Australia</td>\n",
       "      <td>1991</td>\n",
       "      <td>26.7</td>\n",
       "      <td>24.5</td>\n",
       "      <td>25.6</td>\n",
       "      <td>Oceania</td>\n",
       "    </tr>\n",
       "  </tbody>\n",
       "</table>\n",
       "</div>"
      ],
      "text/plain": [
       "     Country  Year  male_mean_age  female_mean_age  couple_mean_age Continent\n",
       "0  Australia  1990           26.5             24.3             25.4   Oceania\n",
       "1  Australia  1991           26.7             24.5             25.6   Oceania"
      ]
     },
     "execution_count": 19,
     "metadata": {},
     "output_type": "execute_result"
    }
   ],
   "source": [
    "mean['Continent'] = mean['Country'].apply(continente)\n",
    "age['Continent'] = age['Country'].apply(continente)\n",
    "age.head(2)"
   ]
  },
  {
   "cell_type": "markdown",
   "metadata": {},
   "source": [
    "### Exportando dataset das idades médias em csv"
   ]
  },
  {
   "cell_type": "code",
   "execution_count": 20,
   "metadata": {
    "ExecuteTime": {
     "end_time": "2019-12-07T18:31:17.539500Z",
     "start_time": "2019-12-07T18:31:17.462560Z"
    }
   },
   "outputs": [],
   "source": [
    "mean.to_csv('./data/mean_age_first_marriage_long.csv', encoding='utf-8-sig')\n",
    "age.to_csv('./data/mean_age_first_marriage.csv', encoding='utf-8-sig')"
   ]
  },
  {
   "cell_type": "markdown",
   "metadata": {},
   "source": [
    "Agora os datasets estão prontos para as visualizações."
   ]
  }
 ],
 "metadata": {
  "kernelspec": {
   "display_name": "Python 3",
   "language": "python",
   "name": "python3"
  },
  "language_info": {
   "codemirror_mode": {
    "name": "ipython",
    "version": 3
   },
   "file_extension": ".py",
   "mimetype": "text/x-python",
   "name": "python",
   "nbconvert_exporter": "python",
   "pygments_lexer": "ipython3",
   "version": "3.7.4"
  },
  "toc": {
   "base_numbering": 1,
   "nav_menu": {},
   "number_sections": false,
   "sideBar": true,
   "skip_h1_title": false,
   "title_cell": "Table of Contents",
   "title_sidebar": "Contents",
   "toc_cell": false,
   "toc_position": {},
   "toc_section_display": true,
   "toc_window_display": false
  },
  "varInspector": {
   "cols": {
    "lenName": 16,
    "lenType": 16,
    "lenVar": 40
   },
   "kernels_config": {
    "python": {
     "delete_cmd_postfix": "",
     "delete_cmd_prefix": "del ",
     "library": "var_list.py",
     "varRefreshCmd": "print(var_dic_list())"
    },
    "r": {
     "delete_cmd_postfix": ") ",
     "delete_cmd_prefix": "rm(",
     "library": "var_list.r",
     "varRefreshCmd": "cat(var_dic_list()) "
    }
   },
   "types_to_exclude": [
    "module",
    "function",
    "builtin_function_or_method",
    "instance",
    "_Feature"
   ],
   "window_display": false
  }
 },
 "nbformat": 4,
 "nbformat_minor": 2
}
